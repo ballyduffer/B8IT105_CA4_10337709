{
 "cells": [
  {
   "cell_type": "code",
   "execution_count": 2,
   "metadata": {},
   "outputs": [
    {
     "data": {
      "text/html": [
       "<div>\n",
       "<style scoped>\n",
       "    .dataframe tbody tr th:only-of-type {\n",
       "        vertical-align: middle;\n",
       "    }\n",
       "\n",
       "    .dataframe tbody tr th {\n",
       "        vertical-align: top;\n",
       "    }\n",
       "\n",
       "    .dataframe thead th {\n",
       "        text-align: right;\n",
       "    }\n",
       "</style>\n",
       "<table border=\"1\" class=\"dataframe\">\n",
       "  <thead>\n",
       "    <tr style=\"text-align: right;\">\n",
       "      <th></th>\n",
       "      <th>Revision</th>\n",
       "      <th>Author</th>\n",
       "      <th>Date</th>\n",
       "      <th>Time</th>\n",
       "      <th>Total_M</th>\n",
       "      <th>Total_A</th>\n",
       "      <th>Total_D</th>\n",
       "      <th>No.Of Lines</th>\n",
       "      <th>Comment</th>\n",
       "      <th>Unnamed: 9</th>\n",
       "      <th>Unnamed: 10</th>\n",
       "      <th>Unnamed: 11</th>\n",
       "      <th>Unnamed: 12</th>\n",
       "      <th>Unnamed: 13</th>\n",
       "    </tr>\n",
       "  </thead>\n",
       "  <tbody>\n",
       "    <tr>\n",
       "      <th>0</th>\n",
       "      <td>r1551925</td>\n",
       "      <td>Thomas</td>\n",
       "      <td>27/11/2015</td>\n",
       "      <td>16:57:44</td>\n",
       "      <td>0</td>\n",
       "      <td>2</td>\n",
       "      <td>2</td>\n",
       "      <td>1</td>\n",
       "      <td>Renamed folder to the correct name</td>\n",
       "      <td>NaN</td>\n",
       "      <td>NaN</td>\n",
       "      <td>NaN</td>\n",
       "      <td>NaN</td>\n",
       "      <td>NaN</td>\n",
       "    </tr>\n",
       "    <tr>\n",
       "      <th>1</th>\n",
       "      <td>r1551575</td>\n",
       "      <td>Thomas</td>\n",
       "      <td>27/11/2015</td>\n",
       "      <td>09:46:32</td>\n",
       "      <td>27</td>\n",
       "      <td>0</td>\n",
       "      <td>0</td>\n",
       "      <td>1</td>\n",
       "      <td>Removed unused webview.plan.management and web...</td>\n",
       "      <td>NaN</td>\n",
       "      <td>NaN</td>\n",
       "      <td>NaN</td>\n",
       "      <td>NaN</td>\n",
       "      <td>NaN</td>\n",
       "    </tr>\n",
       "    <tr>\n",
       "      <th>2</th>\n",
       "      <td>r1551569</td>\n",
       "      <td>Vincent</td>\n",
       "      <td>27/11/2015</td>\n",
       "      <td>09:38:09</td>\n",
       "      <td>1</td>\n",
       "      <td>0</td>\n",
       "      <td>0</td>\n",
       "      <td>1</td>\n",
       "      <td>enable all clients</td>\n",
       "      <td>NaN</td>\n",
       "      <td>NaN</td>\n",
       "      <td>NaN</td>\n",
       "      <td>NaN</td>\n",
       "      <td>NaN</td>\n",
       "    </tr>\n",
       "    <tr>\n",
       "      <th>3</th>\n",
       "      <td>r1551558</td>\n",
       "      <td>Thomas</td>\n",
       "      <td>27/11/2015</td>\n",
       "      <td>09:13:26</td>\n",
       "      <td>1</td>\n",
       "      <td>0</td>\n",
       "      <td>0</td>\n",
       "      <td>1</td>\n",
       "      <td>Chnaged jira url to htps</td>\n",
       "      <td>NaN</td>\n",
       "      <td>NaN</td>\n",
       "      <td>NaN</td>\n",
       "      <td>NaN</td>\n",
       "      <td>NaN</td>\n",
       "    </tr>\n",
       "    <tr>\n",
       "      <th>4</th>\n",
       "      <td>r1551504</td>\n",
       "      <td>/OU=Domain Control Validated/CN=svn.company.net</td>\n",
       "      <td>27/11/2015</td>\n",
       "      <td>07:05:41</td>\n",
       "      <td>1</td>\n",
       "      <td>0</td>\n",
       "      <td>0</td>\n",
       "      <td>1</td>\n",
       "      <td>[gradle-release] prepare for next development ...</td>\n",
       "      <td>NaN</td>\n",
       "      <td>NaN</td>\n",
       "      <td>NaN</td>\n",
       "      <td>NaN</td>\n",
       "      <td>NaN</td>\n",
       "    </tr>\n",
       "  </tbody>\n",
       "</table>\n",
       "</div>"
      ],
      "text/plain": [
       "   Revision                                           Author        Date  \\\n",
       "0  r1551925                                           Thomas  27/11/2015   \n",
       "1  r1551575                                           Thomas  27/11/2015   \n",
       "2  r1551569                                          Vincent  27/11/2015   \n",
       "3  r1551558                                           Thomas  27/11/2015   \n",
       "4  r1551504  /OU=Domain Control Validated/CN=svn.company.net  27/11/2015   \n",
       "\n",
       "       Time  Total_M  Total_A  Total_D   No.Of Lines  \\\n",
       "0  16:57:44        0        2        2             1   \n",
       "1  09:46:32       27        0        0             1   \n",
       "2  09:38:09        1        0        0             1   \n",
       "3  09:13:26        1        0        0             1   \n",
       "4  07:05:41        1        0        0             1   \n",
       "\n",
       "                                             Comment Unnamed: 9 Unnamed: 10  \\\n",
       "0                 Renamed folder to the correct name        NaN         NaN   \n",
       "1  Removed unused webview.plan.management and web...        NaN         NaN   \n",
       "2                                 enable all clients        NaN         NaN   \n",
       "3                           Chnaged jira url to htps        NaN         NaN   \n",
       "4  [gradle-release] prepare for next development ...        NaN         NaN   \n",
       "\n",
       "  Unnamed: 11 Unnamed: 12 Unnamed: 13  \n",
       "0         NaN         NaN         NaN  \n",
       "1         NaN         NaN         NaN  \n",
       "2         NaN         NaN         NaN  \n",
       "3         NaN         NaN         NaN  \n",
       "4         NaN         NaN         NaN  "
      ]
     },
     "execution_count": 2,
     "metadata": {},
     "output_type": "execute_result"
    }
   ],
   "source": [
    "#Import required libraries\n",
    "import pandas as pd \n",
    "import matplotlib.pyplot as plt\n",
    "import datetime as dt\n",
    "\n",
    "# Read data from file 'filename.csv' \n",
    "data = pd.read_csv(\"CA4_changes.csv\") \n",
    "\n",
    "# Preview the first 5 lines of the loaded data \n",
    "data.head()"
   ]
  },
  {
   "cell_type": "code",
   "execution_count": 3,
   "metadata": {},
   "outputs": [],
   "source": [
    "#Make data into data frame\n",
    "dframe= pd.DataFrame(data)"
   ]
  },
  {
   "cell_type": "code",
   "execution_count": 4,
   "metadata": {},
   "outputs": [
    {
     "name": "stdout",
     "output_type": "stream",
     "text": [
      "<class 'pandas.core.frame.DataFrame'>\n"
     ]
    }
   ],
   "source": [
    "#Confirm type is now dataframe\n",
    "print(type(dframe))"
   ]
  },
  {
   "cell_type": "code",
   "execution_count": 5,
   "metadata": {},
   "outputs": [
    {
     "data": {
      "text/plain": [
       "RangeIndex(start=0, stop=422, step=1)"
      ]
     },
     "execution_count": 5,
     "metadata": {},
     "output_type": "execute_result"
    }
   ],
   "source": [
    "#Check number of lines in dframe\n",
    "dframe.index"
   ]
  },
  {
   "cell_type": "code",
   "execution_count": 6,
   "metadata": {},
   "outputs": [
    {
     "data": {
      "text/plain": [
       "Index(['Revision', 'Author', 'Date', 'Time', 'Total_M', 'Total_A', 'Total_D',\n",
       "       ' No.Of Lines', ' Comment', 'Unnamed: 9', 'Unnamed: 10', 'Unnamed: 11',\n",
       "       'Unnamed: 12', 'Unnamed: 13'],\n",
       "      dtype='object')"
      ]
     },
     "execution_count": 6,
     "metadata": {},
     "output_type": "execute_result"
    }
   ],
   "source": [
    "#Check Column names\n",
    "dframe.columns"
   ]
  },
  {
   "cell_type": "code",
   "execution_count": 7,
   "metadata": {},
   "outputs": [
    {
     "data": {
      "text/plain": [
       "(422, 14)"
      ]
     },
     "execution_count": 7,
     "metadata": {},
     "output_type": "execute_result"
    }
   ],
   "source": [
    "#Shape indicates Columns by rows returned\n",
    "dframe.shape"
   ]
  },
  {
   "cell_type": "code",
   "execution_count": 8,
   "metadata": {},
   "outputs": [
    {
     "data": {
      "text/plain": [
       "Revision        object\n",
       "Author          object\n",
       "Date            object\n",
       "Time            object\n",
       "Total_M          int64\n",
       "Total_A          int64\n",
       "Total_D          int64\n",
       " No.Of Lines     int64\n",
       " Comment        object\n",
       "Unnamed: 9      object\n",
       "Unnamed: 10     object\n",
       "Unnamed: 11     object\n",
       "Unnamed: 12     object\n",
       "Unnamed: 13     object\n",
       "dtype: object"
      ]
     },
     "execution_count": 8,
     "metadata": {},
     "output_type": "execute_result"
    }
   ],
   "source": [
    "#Learn the type of each Column\n",
    "dframe.dtypes"
   ]
  },
  {
   "cell_type": "code",
   "execution_count": 9,
   "metadata": {
    "scrolled": true
   },
   "outputs": [],
   "source": [
    "#One Author name was very long in the data. \n",
    "#I have renamed this so that it will graph better\n",
    "dframe.Author=dframe.Author.replace({'/OU=Domain Control Validated/CN=svn.company.net':'Domain Control'})"
   ]
  },
  {
   "cell_type": "code",
   "execution_count": 10,
   "metadata": {},
   "outputs": [],
   "source": [
    "#Created a new variable called Author_Count. This will count the number of times each author has made a commit\n",
    "Author_Count = dframe.Author.value_counts()"
   ]
  },
  {
   "cell_type": "code",
   "execution_count": 11,
   "metadata": {
    "scrolled": true
   },
   "outputs": [
    {
     "data": {
      "text/plain": [
       "Author           Date      \n",
       "Alan             13/07/2015     1\n",
       "                 15/07/2015     1\n",
       "                 16/07/2015     3\n",
       "Dave             12/11/2015     1\n",
       "                 23/07/2015     1\n",
       "Domain Control   03/11/2015     1\n",
       "                 04/09/2015     1\n",
       "                 06/08/2015     1\n",
       "                 09/09/2015     2\n",
       "                 09/10/2015     1\n",
       "                 10/09/2015     1\n",
       "                 13/08/2015     3\n",
       "                 15/07/2015     2\n",
       "                 16/11/2015     1\n",
       "                 17/07/2015     1\n",
       "                 17/11/2015     1\n",
       "                 19/11/2015     1\n",
       "                 20/08/2015     1\n",
       "                 23/07/2015     1\n",
       "                 23/11/2015     1\n",
       "                 24/07/2015     1\n",
       "                 24/08/2015     1\n",
       "                 27/11/2015     1\n",
       "                 30/07/2015     2\n",
       "Freddie          03/09/2015     1\n",
       "                 07/09/2015     2\n",
       "                 19/11/2015     1\n",
       "                 26/08/2015     2\n",
       "                 28/08/2015     1\n",
       "Jimmy            01/10/2015     2\n",
       "                               ..\n",
       "Thomas           23/11/2015     3\n",
       "                 24/07/2015     8\n",
       "                 24/11/2015     1\n",
       "                 25/08/2015     2\n",
       "                 25/09/2015     1\n",
       "                 25/11/2015     5\n",
       "                 26/08/2015     1\n",
       "                 26/11/2015     2\n",
       "                 27/07/2015     2\n",
       "                 27/08/2015     1\n",
       "                 27/11/2015     3\n",
       "                 28/07/2015     2\n",
       "                 28/10/2015     4\n",
       "                 29/07/2015     3\n",
       "                 29/10/2015    11\n",
       "                 30/07/2015     8\n",
       "                 30/10/2015     4\n",
       "                 31/07/2015     6\n",
       "Vincent          04/11/2015     4\n",
       "                 05/11/2015     1\n",
       "                 17/11/2015     1\n",
       "                 18/11/2015     1\n",
       "                 19/11/2015     1\n",
       "                 23/11/2015     1\n",
       "                 24/11/2015     3\n",
       "                 26/11/2015     9\n",
       "                 27/10/2015     2\n",
       "                 27/11/2015     3\n",
       "ajon0002         02/11/2015     9\n",
       "murari.krishnan  27/08/2015     1\n",
       "Name: Revision, Length: 135, dtype: int64"
      ]
     },
     "execution_count": 11,
     "metadata": {},
     "output_type": "execute_result"
    }
   ],
   "source": [
    "#Count for each commit\n",
    "dframe.groupby(['Author', 'Date'])['Revision'].count()"
   ]
  },
  {
   "cell_type": "code",
   "execution_count": 24,
   "metadata": {
    "scrolled": true
   },
   "outputs": [
    {
     "data": {
      "text/plain": [
       "Author\n",
       "Alan                 8\n",
       "Dave                 2\n",
       "Domain Control      24\n",
       "Freddie             14\n",
       "Jimmy              154\n",
       "Nicky               14\n",
       "Thomas             234\n",
       "Vincent             80\n",
       "ajon0002            24\n",
       "murari.krishnan      1\n",
       "Name:  No.Of Lines, dtype: int64"
      ]
     },
     "execution_count": 24,
     "metadata": {},
     "output_type": "execute_result"
    }
   ],
   "source": [
    "#Sum for each commit by No of Lines\n",
    "dframe.groupby(['Author'])[' No.Of Lines'].sum()"
   ]
  },
  {
   "cell_type": "code",
   "execution_count": 13,
   "metadata": {},
   "outputs": [
    {
     "name": "stdout",
     "output_type": "stream",
     "text": [
      "Thomas             191\n",
      "Jimmy              152\n",
      "Vincent             26\n",
      "Domain Control      24\n",
      "ajon0002             9\n",
      "Freddie              7\n",
      "Alan                 5\n",
      "Nicky                5\n",
      "Dave                 2\n",
      "murari.krishnan      1\n",
      "Name: Author, dtype: int64\n"
     ]
    }
   ],
   "source": [
    "Author = dframe.Author.value_counts()\n",
    "print(Author)"
   ]
  },
  {
   "cell_type": "code",
   "execution_count": 14,
   "metadata": {},
   "outputs": [
    {
     "data": {
      "text/plain": [
       "Text(0,0.5,'Frequency')"
      ]
     },
     "execution_count": 14,
     "metadata": {},
     "output_type": "execute_result"
    },
    {
     "data": {
      "image/png": "[encoded data removed]",
      "text/plain": [
       "<Figure size 432x288 with 1 Axes>"
      ]
     },
     "metadata": {},
     "output_type": "display_data"
    }
   ],
   "source": [
    "#Author_Count plotted using a bar graph\n",
    "#Labels for x & y axis and title of graph created\n",
    "Author_Count.plot(kind='bar')\n",
    "plt.title(\"Authors Commits\")\n",
    "plt.xlabel(\"Author\")\n",
    "plt.ylabel(\"Frequency\")"
   ]
  },
  {
   "cell_type": "code",
   "execution_count": 15,
   "metadata": {},
   "outputs": [
    {
     "name": "stdout",
     "output_type": "stream",
     "text": [
      "Thursday     116\n",
      "Wednesday    101\n",
      "Friday        99\n",
      "Tuesday       50\n",
      "Monday        44\n",
      "Saturday       7\n",
      "Sunday         5\n",
      "Name: Day, dtype: int64\n"
     ]
    }
   ],
   "source": [
    "#Changed the format of the Date column to datetime\n",
    "dframe.Date = pd.to_datetime(dframe.Date)\n",
    "\n",
    "#New column in dframe created. This deduces the day of the week for each date\n",
    "dframe['Day']=dframe.Date.dt.day_name()\n",
    "\n",
    "#Variable Day created to count the instance of commits on each day\n",
    "Day = dframe.Day.value_counts()\n",
    "print(Day)"
   ]
  },
  {
   "cell_type": "code",
   "execution_count": 16,
   "metadata": {
    "scrolled": true
   },
   "outputs": [
    {
     "data": {
      "text/plain": [
       "Text(0.5,0,'Frequency')"
      ]
     },
     "execution_count": 16,
     "metadata": {},
     "output_type": "execute_result"
    },
    {
     "data": {
      "image/png": "[encoded data removed]",
      "text/plain": [
       "<Figure size 432x288 with 1 Axes>"
      ]
     },
     "metadata": {},
     "output_type": "display_data"
    }
   ],
   "source": [
    "#Day plotted using a horizontal bar graph\n",
    "#Labels for x & y axis and title of graph created\n",
    "Day.plot(kind='barh')\n",
    "plt.title(\"Revisions by Day\")\n",
    "plt.ylabel(\"Day\")\n",
    "plt.xlabel(\"Frequency\")"
   ]
  },
  {
   "cell_type": "code",
   "execution_count": 30,
   "metadata": {},
   "outputs": [
    {
     "data": {
      "text/html": [
       "<div>\n",
       "<style scoped>\n",
       "    .dataframe tbody tr th:only-of-type {\n",
       "        vertical-align: middle;\n",
       "    }\n",
       "\n",
       "    .dataframe tbody tr th {\n",
       "        vertical-align: top;\n",
       "    }\n",
       "\n",
       "    .dataframe thead th {\n",
       "        text-align: right;\n",
       "    }\n",
       "</style>\n",
       "<table border=\"1\" class=\"dataframe\">\n",
       "  <thead>\n",
       "    <tr style=\"text-align: right;\">\n",
       "      <th></th>\n",
       "      <th>Total_M</th>\n",
       "      <th>Total_A</th>\n",
       "      <th>Total_D</th>\n",
       "    </tr>\n",
       "    <tr>\n",
       "      <th>Day</th>\n",
       "      <th></th>\n",
       "      <th></th>\n",
       "      <th></th>\n",
       "    </tr>\n",
       "  </thead>\n",
       "  <tbody>\n",
       "    <tr>\n",
       "      <th>Friday</th>\n",
       "      <td>299</td>\n",
       "      <td>44</td>\n",
       "      <td>23</td>\n",
       "    </tr>\n",
       "    <tr>\n",
       "      <th>Monday</th>\n",
       "      <td>116</td>\n",
       "      <td>115</td>\n",
       "      <td>13</td>\n",
       "    </tr>\n",
       "    <tr>\n",
       "      <th>Saturday</th>\n",
       "      <td>22</td>\n",
       "      <td>1</td>\n",
       "      <td>0</td>\n",
       "    </tr>\n",
       "    <tr>\n",
       "      <th>Sunday</th>\n",
       "      <td>27</td>\n",
       "      <td>0</td>\n",
       "      <td>0</td>\n",
       "    </tr>\n",
       "    <tr>\n",
       "      <th>Thursday</th>\n",
       "      <td>341</td>\n",
       "      <td>391</td>\n",
       "      <td>558</td>\n",
       "    </tr>\n",
       "    <tr>\n",
       "      <th>Tuesday</th>\n",
       "      <td>146</td>\n",
       "      <td>456</td>\n",
       "      <td>34</td>\n",
       "    </tr>\n",
       "    <tr>\n",
       "      <th>Wednesday</th>\n",
       "      <td>235</td>\n",
       "      <td>49</td>\n",
       "      <td>139</td>\n",
       "    </tr>\n",
       "  </tbody>\n",
       "</table>\n",
       "</div>"
      ],
      "text/plain": [
       "           Total_M  Total_A  Total_D\n",
       "Day                                 \n",
       "Friday         299       44       23\n",
       "Monday         116      115       13\n",
       "Saturday        22        1        0\n",
       "Sunday          27        0        0\n",
       "Thursday       341      391      558\n",
       "Tuesday        146      456       34\n",
       "Wednesday      235       49      139"
      ]
     },
     "execution_count": 30,
     "metadata": {},
     "output_type": "execute_result"
    }
   ],
   "source": [
    "#Breakdown of types of commits by day\n",
    "dframe.groupby(['Day'])['Total_M','Total_A','Total_D'].sum()"
   ]
  },
  {
   "cell_type": "code",
   "execution_count": 29,
   "metadata": {},
   "outputs": [
    {
     "data": {
      "text/plain": [
       "19     1\n",
       "5      1\n",
       "18     2\n",
       "7      2\n",
       "20     3\n",
       "6      3\n",
       "17     4\n",
       "8     12\n",
       "10    30\n",
       "12    31\n",
       "9     33\n",
       "16    39\n",
       "15    52\n",
       "13    56\n",
       "11    57\n",
       "14    96\n",
       "Name: Time, dtype: int64"
      ]
     },
     "execution_count": 29,
     "metadata": {},
     "output_type": "execute_result"
    }
   ],
   "source": [
    "#New columns for hours created in dframe. This takes the hour information from the time column\n",
    "dframe.Hours = dframe.Time.map( lambda x: pd.to_datetime(x).hour )\n",
    "\n",
    "#Hour variable created to count commits for each hour\n",
    "Hour = dframe.Hours.value_counts()\n",
    "Hour.sort_values()"
   ]
  },
  {
   "cell_type": "code",
   "execution_count": 28,
   "metadata": {},
   "outputs": [
    {
     "data": {
      "text/plain": [
       "Text(0.5,0,'Hour (24hr clock)')"
      ]
     },
     "execution_count": 28,
     "metadata": {},
     "output_type": "execute_result"
    },
    {
     "data": {
      "image/png": "[encoded data removed]",
      "text/plain": [
       "<Figure size 432x288 with 1 Axes>"
      ]
     },
     "metadata": {},
     "output_type": "display_data"
    }
   ],
   "source": [
    "#Day plotted using a bar graph \n",
    "#Labels for x & y axis and title of graph created\n",
    "Hour.plot(kind='bar')\n",
    "plt.title(\"Revisions by Hour\")\n",
    "plt.ylabel(\"Frequency\")\n",
    "plt.xlabel(\"Hour (24hr clock)\")"
   ]
  },
  {
   "cell_type": "code",
   "execution_count": 27,
   "metadata": {},
   "outputs": [
    {
     "data": {
      "text/plain": [
       "Text(0.5,0,'Hour (24hr clock)')"
      ]
     },
     "execution_count": 27,
     "metadata": {},
     "output_type": "execute_result"
    },
    {
     "data": {
      "image/png": "[encoded data removed]",
      "text/plain": [
       "<Figure size 432x288 with 1 Axes>"
      ]
     },
     "metadata": {},
     "output_type": "display_data"
    }
   ],
   "source": [
    "#Day plotted using a pie chart - harder to read than bar graph\n",
    "#Label for data and title of graph created\n",
    "Hour.plot(kind='pie')\n",
    "plt.title(\"Revisions by Hour\")\n",
    "plt.xlabel(\"Hour (24hr clock)\")"
   ]
  },
  {
   "cell_type": "code",
   "execution_count": null,
   "metadata": {},
   "outputs": [],
   "source": []
  }
 ],
 "metadata": {
  "kernelspec": {
   "display_name": "Python 3",
   "language": "python",
   "name": "python3"
  },
  "language_info": {
   "codemirror_mode": {
    "name": "ipython",
    "version": 3
   },
   "file_extension": ".py",
   "mimetype": "text/x-python",
   "name": "python",
   "nbconvert_exporter": "python",
   "pygments_lexer": "ipython3",
   "version": "3.6.5"
  }
 },
 "nbformat": 4,
 "nbformat_minor": 2
}
